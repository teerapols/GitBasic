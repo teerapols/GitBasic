{
 "cells": [
  {
   "cell_type": "code",
   "execution_count": 1,
   "metadata": {},
   "outputs": [],
   "source": [
    "import pandas as pd\n",
    "import numpy as np\n",
    "\n",
    "# Data Viz library\n",
    "import matplotlib.pyplot as plt\n",
    "import seaborn as sns\n",
    "\n",
    "%matplotlib inline"
   ]
  },
  {
   "cell_type": "code",
   "execution_count": 2,
   "metadata": {},
   "outputs": [],
   "source": [
    "Insurance= pd.read_excel('insurance.xlsx', sheet_name = 'Train')"
   ]
  },
  {
   "cell_type": "code",
   "execution_count": 3,
   "metadata": {},
   "outputs": [
    {
     "data": {
      "text/html": [
       "<div>\n",
       "<style scoped>\n",
       "    .dataframe tbody tr th:only-of-type {\n",
       "        vertical-align: middle;\n",
       "    }\n",
       "\n",
       "    .dataframe tbody tr th {\n",
       "        vertical-align: top;\n",
       "    }\n",
       "\n",
       "    .dataframe thead th {\n",
       "        text-align: right;\n",
       "    }\n",
       "</style>\n",
       "<table border=\"1\" class=\"dataframe\">\n",
       "  <thead>\n",
       "    <tr style=\"text-align: right;\">\n",
       "      <th></th>\n",
       "      <th>age</th>\n",
       "      <th>sex</th>\n",
       "      <th>bmi</th>\n",
       "      <th>children</th>\n",
       "      <th>smoker</th>\n",
       "      <th>region</th>\n",
       "      <th>charges</th>\n",
       "    </tr>\n",
       "  </thead>\n",
       "  <tbody>\n",
       "    <tr>\n",
       "      <th>0</th>\n",
       "      <td>19</td>\n",
       "      <td>female</td>\n",
       "      <td>27.900</td>\n",
       "      <td>0</td>\n",
       "      <td>yes</td>\n",
       "      <td>southwest</td>\n",
       "      <td>16884.92400</td>\n",
       "    </tr>\n",
       "    <tr>\n",
       "      <th>1</th>\n",
       "      <td>18</td>\n",
       "      <td>male</td>\n",
       "      <td>33.770</td>\n",
       "      <td>1</td>\n",
       "      <td>no</td>\n",
       "      <td>southeast</td>\n",
       "      <td>1725.55230</td>\n",
       "    </tr>\n",
       "    <tr>\n",
       "      <th>2</th>\n",
       "      <td>28</td>\n",
       "      <td>male</td>\n",
       "      <td>33.000</td>\n",
       "      <td>3</td>\n",
       "      <td>no</td>\n",
       "      <td>southeast</td>\n",
       "      <td>4449.46200</td>\n",
       "    </tr>\n",
       "    <tr>\n",
       "      <th>3</th>\n",
       "      <td>33</td>\n",
       "      <td>male</td>\n",
       "      <td>22.705</td>\n",
       "      <td>0</td>\n",
       "      <td>no</td>\n",
       "      <td>northwest</td>\n",
       "      <td>21984.47061</td>\n",
       "    </tr>\n",
       "    <tr>\n",
       "      <th>4</th>\n",
       "      <td>32</td>\n",
       "      <td>male</td>\n",
       "      <td>28.880</td>\n",
       "      <td>0</td>\n",
       "      <td>no</td>\n",
       "      <td>northwest</td>\n",
       "      <td>3866.85520</td>\n",
       "    </tr>\n",
       "  </tbody>\n",
       "</table>\n",
       "</div>"
      ],
      "text/plain": [
       "   age     sex     bmi  children smoker     region      charges\n",
       "0   19  female  27.900         0    yes  southwest  16884.92400\n",
       "1   18    male  33.770         1     no  southeast   1725.55230\n",
       "2   28    male  33.000         3     no  southeast   4449.46200\n",
       "3   33    male  22.705         0     no  northwest  21984.47061\n",
       "4   32    male  28.880         0     no  northwest   3866.85520"
      ]
     },
     "execution_count": 3,
     "metadata": {},
     "output_type": "execute_result"
    }
   ],
   "source": [
    "Insurance.head()"
   ]
  },
  {
   "cell_type": "code",
   "execution_count": 4,
   "metadata": {},
   "outputs": [
    {
     "data": {
      "text/html": [
       "<div>\n",
       "<style scoped>\n",
       "    .dataframe tbody tr th:only-of-type {\n",
       "        vertical-align: middle;\n",
       "    }\n",
       "\n",
       "    .dataframe tbody tr th {\n",
       "        vertical-align: top;\n",
       "    }\n",
       "\n",
       "    .dataframe thead th {\n",
       "        text-align: right;\n",
       "    }\n",
       "</style>\n",
       "<table border=\"1\" class=\"dataframe\">\n",
       "  <thead>\n",
       "    <tr style=\"text-align: right;\">\n",
       "      <th></th>\n",
       "      <th>age</th>\n",
       "      <th>bmi</th>\n",
       "      <th>children</th>\n",
       "      <th>charges</th>\n",
       "    </tr>\n",
       "  </thead>\n",
       "  <tbody>\n",
       "    <tr>\n",
       "      <th>count</th>\n",
       "      <td>1338.000000</td>\n",
       "      <td>1338.000000</td>\n",
       "      <td>1338.000000</td>\n",
       "      <td>1338.000000</td>\n",
       "    </tr>\n",
       "    <tr>\n",
       "      <th>mean</th>\n",
       "      <td>39.207025</td>\n",
       "      <td>30.663397</td>\n",
       "      <td>1.094918</td>\n",
       "      <td>13270.422265</td>\n",
       "    </tr>\n",
       "    <tr>\n",
       "      <th>std</th>\n",
       "      <td>14.049960</td>\n",
       "      <td>6.098187</td>\n",
       "      <td>1.205493</td>\n",
       "      <td>12110.011237</td>\n",
       "    </tr>\n",
       "    <tr>\n",
       "      <th>min</th>\n",
       "      <td>18.000000</td>\n",
       "      <td>15.960000</td>\n",
       "      <td>0.000000</td>\n",
       "      <td>1121.873900</td>\n",
       "    </tr>\n",
       "    <tr>\n",
       "      <th>25%</th>\n",
       "      <td>27.000000</td>\n",
       "      <td>26.296250</td>\n",
       "      <td>0.000000</td>\n",
       "      <td>4740.287150</td>\n",
       "    </tr>\n",
       "    <tr>\n",
       "      <th>50%</th>\n",
       "      <td>39.000000</td>\n",
       "      <td>30.400000</td>\n",
       "      <td>1.000000</td>\n",
       "      <td>9382.033000</td>\n",
       "    </tr>\n",
       "    <tr>\n",
       "      <th>75%</th>\n",
       "      <td>51.000000</td>\n",
       "      <td>34.693750</td>\n",
       "      <td>2.000000</td>\n",
       "      <td>16639.912515</td>\n",
       "    </tr>\n",
       "    <tr>\n",
       "      <th>max</th>\n",
       "      <td>64.000000</td>\n",
       "      <td>53.130000</td>\n",
       "      <td>5.000000</td>\n",
       "      <td>63770.428010</td>\n",
       "    </tr>\n",
       "  </tbody>\n",
       "</table>\n",
       "</div>"
      ],
      "text/plain": [
       "               age          bmi     children       charges\n",
       "count  1338.000000  1338.000000  1338.000000   1338.000000\n",
       "mean     39.207025    30.663397     1.094918  13270.422265\n",
       "std      14.049960     6.098187     1.205493  12110.011237\n",
       "min      18.000000    15.960000     0.000000   1121.873900\n",
       "25%      27.000000    26.296250     0.000000   4740.287150\n",
       "50%      39.000000    30.400000     1.000000   9382.033000\n",
       "75%      51.000000    34.693750     2.000000  16639.912515\n",
       "max      64.000000    53.130000     5.000000  63770.428010"
      ]
     },
     "execution_count": 4,
     "metadata": {},
     "output_type": "execute_result"
    }
   ],
   "source": [
    "Insurance.describe() # describe ให้ข้อมูลเชิงสถิติในแต่ละ column "
   ]
  },
  {
   "cell_type": "code",
   "execution_count": 5,
   "metadata": {},
   "outputs": [
    {
     "data": {
      "text/plain": [
       "<matplotlib.axes._subplots.AxesSubplot at 0x1d054028080>"
      ]
     },
     "execution_count": 5,
     "metadata": {},
     "output_type": "execute_result"
    },
    {
     "data": {
      "image/png": "[encoded data removed]",
      "text/plain": [
       "<Figure size 432x288 with 1 Axes>"
      ]
     },
     "metadata": {
      "needs_background": "light"
     },
     "output_type": "display_data"
    }
   ],
   "source": [
    "# ตรวจสอบ Missing value ด้วย heatmap\n",
    "\n",
    "# หากข้อมูลมี Missing สามารถจัดการได้ตามบทเรียนที่ผ่านมา\n",
    "sns.heatmap(Insurance.isnull(), yticklabels=False, cbar = False, cmap= 'viridis')"
   ]
  },
  {
   "cell_type": "code",
   "execution_count": 6,
   "metadata": {},
   "outputs": [
    {
     "data": {
      "text/plain": [
       "age         False\n",
       "sex         False\n",
       "bmi         False\n",
       "children    False\n",
       "smoker      False\n",
       "region      False\n",
       "charges     False\n",
       "dtype: bool"
      ]
     },
     "execution_count": 6,
     "metadata": {},
     "output_type": "execute_result"
    }
   ],
   "source": [
    "Insurance.replace([np.inf, -np.inf], np.nan)\n",
    "\n",
    "Insurance.isnull().any() # function check ค่าว่าง ถ้ามีค่าว่าง return true"
   ]
  },
  {
   "cell_type": "code",
   "execution_count": 7,
   "metadata": {},
   "outputs": [],
   "source": [
    "X = Insurance.drop(columns=['charges'],axis=1)\n",
    "y = Insurance ['charges']"
   ]
  },
  {
   "cell_type": "code",
   "execution_count": 9,
   "metadata": {},
   "outputs": [
    {
     "data": {
      "text/html": [
       "<div>\n",
       "<style scoped>\n",
       "    .dataframe tbody tr th:only-of-type {\n",
       "        vertical-align: middle;\n",
       "    }\n",
       "\n",
       "    .dataframe tbody tr th {\n",
       "        vertical-align: top;\n",
       "    }\n",
       "\n",
       "    .dataframe thead th {\n",
       "        text-align: right;\n",
       "    }\n",
       "</style>\n",
       "<table border=\"1\" class=\"dataframe\">\n",
       "  <thead>\n",
       "    <tr style=\"text-align: right;\">\n",
       "      <th></th>\n",
       "      <th>age</th>\n",
       "      <th>sex</th>\n",
       "      <th>bmi</th>\n",
       "      <th>children</th>\n",
       "      <th>smoker</th>\n",
       "      <th>region</th>\n",
       "    </tr>\n",
       "  </thead>\n",
       "  <tbody>\n",
       "    <tr>\n",
       "      <th>0</th>\n",
       "      <td>19</td>\n",
       "      <td>female</td>\n",
       "      <td>27.900</td>\n",
       "      <td>0</td>\n",
       "      <td>yes</td>\n",
       "      <td>southwest</td>\n",
       "    </tr>\n",
       "    <tr>\n",
       "      <th>1</th>\n",
       "      <td>18</td>\n",
       "      <td>male</td>\n",
       "      <td>33.770</td>\n",
       "      <td>1</td>\n",
       "      <td>no</td>\n",
       "      <td>southeast</td>\n",
       "    </tr>\n",
       "    <tr>\n",
       "      <th>2</th>\n",
       "      <td>28</td>\n",
       "      <td>male</td>\n",
       "      <td>33.000</td>\n",
       "      <td>3</td>\n",
       "      <td>no</td>\n",
       "      <td>southeast</td>\n",
       "    </tr>\n",
       "    <tr>\n",
       "      <th>3</th>\n",
       "      <td>33</td>\n",
       "      <td>male</td>\n",
       "      <td>22.705</td>\n",
       "      <td>0</td>\n",
       "      <td>no</td>\n",
       "      <td>northwest</td>\n",
       "    </tr>\n",
       "    <tr>\n",
       "      <th>4</th>\n",
       "      <td>32</td>\n",
       "      <td>male</td>\n",
       "      <td>28.880</td>\n",
       "      <td>0</td>\n",
       "      <td>no</td>\n",
       "      <td>northwest</td>\n",
       "    </tr>\n",
       "  </tbody>\n",
       "</table>\n",
       "</div>"
      ],
      "text/plain": [
       "   age     sex     bmi  children smoker     region\n",
       "0   19  female  27.900         0    yes  southwest\n",
       "1   18    male  33.770         1     no  southeast\n",
       "2   28    male  33.000         3     no  southeast\n",
       "3   33    male  22.705         0     no  northwest\n",
       "4   32    male  28.880         0     no  northwest"
      ]
     },
     "execution_count": 9,
     "metadata": {},
     "output_type": "execute_result"
    }
   ],
   "source": [
    "X.head()"
   ]
  },
  {
   "cell_type": "code",
   "execution_count": 11,
   "metadata": {},
   "outputs": [
    {
     "data": {
      "text/plain": [
       "0    16884.92400\n",
       "1     1725.55230\n",
       "2     4449.46200\n",
       "3    21984.47061\n",
       "4     3866.85520\n",
       "Name: charges, dtype: float64"
      ]
     },
     "execution_count": 11,
     "metadata": {},
     "output_type": "execute_result"
    }
   ],
   "source": [
    "y.head()"
   ]
  },
  {
   "cell_type": "code",
   "execution_count": 12,
   "metadata": {},
   "outputs": [
    {
     "data": {
      "text/html": [
       "<div>\n",
       "<style scoped>\n",
       "    .dataframe tbody tr th:only-of-type {\n",
       "        vertical-align: middle;\n",
       "    }\n",
       "\n",
       "    .dataframe tbody tr th {\n",
       "        vertical-align: top;\n",
       "    }\n",
       "\n",
       "    .dataframe thead th {\n",
       "        text-align: right;\n",
       "    }\n",
       "</style>\n",
       "<table border=\"1\" class=\"dataframe\">\n",
       "  <thead>\n",
       "    <tr style=\"text-align: right;\">\n",
       "      <th></th>\n",
       "      <th>age</th>\n",
       "      <th>bmi</th>\n",
       "      <th>children</th>\n",
       "      <th>sex_female</th>\n",
       "      <th>sex_male</th>\n",
       "      <th>smoker_no</th>\n",
       "      <th>smoker_yes</th>\n",
       "      <th>region_northeast</th>\n",
       "      <th>region_northwest</th>\n",
       "      <th>region_southeast</th>\n",
       "      <th>region_southwest</th>\n",
       "    </tr>\n",
       "  </thead>\n",
       "  <tbody>\n",
       "    <tr>\n",
       "      <th>0</th>\n",
       "      <td>19</td>\n",
       "      <td>27.900</td>\n",
       "      <td>0</td>\n",
       "      <td>1</td>\n",
       "      <td>0</td>\n",
       "      <td>0</td>\n",
       "      <td>1</td>\n",
       "      <td>0</td>\n",
       "      <td>0</td>\n",
       "      <td>0</td>\n",
       "      <td>1</td>\n",
       "    </tr>\n",
       "    <tr>\n",
       "      <th>1</th>\n",
       "      <td>18</td>\n",
       "      <td>33.770</td>\n",
       "      <td>1</td>\n",
       "      <td>0</td>\n",
       "      <td>1</td>\n",
       "      <td>1</td>\n",
       "      <td>0</td>\n",
       "      <td>0</td>\n",
       "      <td>0</td>\n",
       "      <td>1</td>\n",
       "      <td>0</td>\n",
       "    </tr>\n",
       "    <tr>\n",
       "      <th>2</th>\n",
       "      <td>28</td>\n",
       "      <td>33.000</td>\n",
       "      <td>3</td>\n",
       "      <td>0</td>\n",
       "      <td>1</td>\n",
       "      <td>1</td>\n",
       "      <td>0</td>\n",
       "      <td>0</td>\n",
       "      <td>0</td>\n",
       "      <td>1</td>\n",
       "      <td>0</td>\n",
       "    </tr>\n",
       "    <tr>\n",
       "      <th>3</th>\n",
       "      <td>33</td>\n",
       "      <td>22.705</td>\n",
       "      <td>0</td>\n",
       "      <td>0</td>\n",
       "      <td>1</td>\n",
       "      <td>1</td>\n",
       "      <td>0</td>\n",
       "      <td>0</td>\n",
       "      <td>1</td>\n",
       "      <td>0</td>\n",
       "      <td>0</td>\n",
       "    </tr>\n",
       "    <tr>\n",
       "      <th>4</th>\n",
       "      <td>32</td>\n",
       "      <td>28.880</td>\n",
       "      <td>0</td>\n",
       "      <td>0</td>\n",
       "      <td>1</td>\n",
       "      <td>1</td>\n",
       "      <td>0</td>\n",
       "      <td>0</td>\n",
       "      <td>1</td>\n",
       "      <td>0</td>\n",
       "      <td>0</td>\n",
       "    </tr>\n",
       "  </tbody>\n",
       "</table>\n",
       "</div>"
      ],
      "text/plain": [
       "   age     bmi  children  sex_female  sex_male  smoker_no  smoker_yes  \\\n",
       "0   19  27.900         0           1         0          0           1   \n",
       "1   18  33.770         1           0         1          1           0   \n",
       "2   28  33.000         3           0         1          1           0   \n",
       "3   33  22.705         0           0         1          1           0   \n",
       "4   32  28.880         0           0         1          1           0   \n",
       "\n",
       "   region_northeast  region_northwest  region_southeast  region_southwest  \n",
       "0                 0                 0                 0                 1  \n",
       "1                 0                 0                 1                 0  \n",
       "2                 0                 0                 1                 0  \n",
       "3                 0                 1                 0                 0  \n",
       "4                 0                 1                 0                 0  "
      ]
     },
     "execution_count": 12,
     "metadata": {},
     "output_type": "execute_result"
    }
   ],
   "source": [
    "X = pd.get_dummies(X, columns=['sex', 'smoker','region'])\n",
    "X.head()"
   ]
  },
  {
   "cell_type": "code",
   "execution_count": 13,
   "metadata": {},
   "outputs": [],
   "source": [
    "# ใช้วิธี Hold out แบ่ง Test 20 และ Train 80\n",
    "\n",
    "from sklearn.model_selection import train_test_split"
   ]
  },
  {
   "cell_type": "code",
   "execution_count": 14,
   "metadata": {},
   "outputs": [],
   "source": [
    "# กด  shift + tab หลังคำว่า split แล้วกดเครื่องหมาย + เพื่อดูตัวอย่างคำสั่งการแบ่งชุดข้อมูล\n",
    "\n",
    "X_train, X_test, y_train, y_test = train_test_split(X, y, test_size=0.20, random_state=101)"
   ]
  },
  {
   "cell_type": "code",
   "execution_count": 15,
   "metadata": {},
   "outputs": [],
   "source": [
    "# Import \"LinearRegression\" from scikit-learn\n",
    "\n",
    "from sklearn.linear_model import LinearRegression"
   ]
  },
  {
   "cell_type": "code",
   "execution_count": 16,
   "metadata": {},
   "outputs": [],
   "source": [
    "# ตั้งชื่อ Linear Regression model ว่า \"lm\"\n",
    "\n",
    "lm = LinearRegression()"
   ]
  },
  {
   "cell_type": "code",
   "execution_count": 17,
   "metadata": {},
   "outputs": [
    {
     "data": {
      "text/plain": [
       "LinearRegression(copy_X=True, fit_intercept=True, n_jobs=None, normalize=False)"
      ]
     },
     "execution_count": 17,
     "metadata": {},
     "output_type": "execute_result"
    }
   ],
   "source": [
    "# สร้าง model regression\n",
    "\n",
    "lm.fit(X_train, y_train)"
   ]
  },
  {
   "cell_type": "code",
   "execution_count": 18,
   "metadata": {},
   "outputs": [
    {
     "data": {
      "text/plain": [
       "array([10870.1944927 ,  2931.00956297, 10552.51567371, 27006.85847048,\n",
       "        6216.46537304,   435.84815599, 15346.22045379,  3968.90411373,\n",
       "       11162.77917975,  6826.31516327,  8228.43994448, 10752.07010885,\n",
       "        6493.16868789, 12750.67606087, 30972.77228568, 36900.78120104,\n",
       "       10488.62527205,  2871.23239228, 15159.89602534, 13820.53590276,\n",
       "       30077.91555121,  7351.38487978, 12740.73649161,  5913.04211057,\n",
       "         470.51851803, 25134.8518974 , 12193.48072537, 27390.20736285,\n",
       "       37879.6989273 ,  4478.70241246,  6057.81828673,  7238.28213158,\n",
       "        3554.81585714,  2545.81224213,  5715.91485337,  5965.34699386,\n",
       "         335.76084422, 12339.02151423, 13784.37910081, 11013.52985855,\n",
       "       10292.80573926,  9627.9173202 , 14866.10427165, 10325.69750784,\n",
       "        6312.6243494 ,  6168.4221984 ,  8244.90205016,  2131.35276428,\n",
       "       12719.76653888,  2212.00221052, -1450.95921631,  2464.19984494,\n",
       "        7271.86578049,  8672.32977973,  4309.78778387, 14275.06733065,\n",
       "       31617.92388181, 11104.23123689, 10565.90191143,  3799.48509054,\n",
       "         330.47218716, 33559.41584146, 36506.61251568, 13274.30672094,\n",
       "       11291.34192227, 16524.30337326, 13119.71160173, 28717.74870025,\n",
       "       17513.77760342, 11732.537211  , 28127.26929703, 30060.84425379,\n",
       "        3563.4369402 ,  3784.56019534,  5413.63329267, 10951.99822108,\n",
       "       13782.01699741, 39798.24751835,  5325.46817808,  2826.35407127,\n",
       "       36915.45418887, 16080.79199631, 35085.83631233,  9113.18210128,\n",
       "         647.45653619,  6334.59636081, 12827.43915494, -2129.75863518,\n",
       "       26448.55566428, 38143.66022859, 14703.10880795,  9579.79583155,\n",
       "        6859.18218103,  8935.25158675, 12885.72940886,  3696.9933239 ,\n",
       "        7615.97820538, 36631.2098867 ,  7403.1482409 , 26619.19377226,\n",
       "       12403.20022347, 26711.81142581,  6271.93810198, 10481.95633632,\n",
       "       30658.69353787, 38399.41102254, 10778.58265289,  9997.1884801 ,\n",
       "       24889.10444838,  9719.10811715,  4359.59485292, 10899.48768889,\n",
       "       26750.64070439, 28418.02176605, 11528.2758788 ,  2048.2521254 ,\n",
       "        2278.81949453,  5015.20886163,  4311.37340011, 13372.1484671 ,\n",
       "       12346.44807651,  2996.72218687,  6366.23081154, 13537.8493696 ,\n",
       "        2727.72015099, 12510.71037698,  5203.0481963 , 11911.59956623,\n",
       "        4749.48545001, 12489.06296522, 28758.93450482, 11084.68463272,\n",
       "        9062.89204923,  8003.57148357,  6502.44309825,  6804.75686766,\n",
       "       11536.53287313,  4084.20176083,  3586.1183416 , 13659.95466875,\n",
       "        9746.15166401,  3821.93626888, 37366.84903032, 14828.41809758,\n",
       "       10270.29172882, 27109.09860245, 13970.13376889, 13638.80182047,\n",
       "       38596.49536523,  9723.26751056,  6238.74272481, 11364.57096914,\n",
       "       11449.66149393, 12361.99690925, 40783.39078949, 13132.05004334,\n",
       "        8033.24069057, 26099.52384196,  4539.49812504,  8575.92362535,\n",
       "        5693.87541517,  6145.81573765,  9487.48680635,  1905.04020982,\n",
       "       18816.49245406,  7162.3381662 , 15066.25983501,  4011.03769838,\n",
       "       33241.21977425, 14149.09240525,   778.12539612, 11474.10304815,\n",
       "       14844.50893438,  8649.85859251, 34351.23692258,  8398.61249322,\n",
       "        5663.84465309, 31567.06272383,  5859.38620277, 13481.01688124,\n",
       "       10448.2154395 ,  7168.90929008, 14553.54305924, 14809.5214815 ,\n",
       "        1540.56698108, 10139.52277927, 36571.84347343,  6818.53474624,\n",
       "       29648.11726834, 14751.18691061, 16061.06822638, 11889.78330393,\n",
       "        3758.55735149,  3916.56636345, 28787.23957834,  5357.67468336,\n",
       "        5668.27530358,  8256.32825844,  2183.2344347 , 12884.70359136,\n",
       "        8281.9601974 , 13351.10034316,  4434.15188305, 12988.24353069,\n",
       "       12196.55668347,  9542.99499191, 11479.54519842,  1543.42610796,\n",
       "       27894.84224398,  2345.6906758 ,  5051.53241395, 16065.61739032,\n",
       "        8776.5881217 , 26425.99883061,  4909.90404013, 10363.2194829 ,\n",
       "        6946.32118807,  9729.35824106,   642.50544554, 11363.34991346,\n",
       "       10284.42643815,  9303.2211678 ,  9684.51734729,  8475.901298  ,\n",
       "       12115.06975084,  2312.12497387, 13693.00621889, 36637.57750895,\n",
       "        4106.51644431, 11265.42538317,  8222.35338864, 33913.29654693,\n",
       "       14359.23538893,  9382.35261947, 13629.75745175, 33912.85024188,\n",
       "        6015.15368157,  3295.54702656, 11885.99945464,  4937.96678205,\n",
       "        5768.92668428, 11394.76922577,  4398.0490693 ,  8607.25160516,\n",
       "        9870.84613182,  5168.63823828, 26477.84345936, 11192.32381903,\n",
       "        4861.2668883 , 12104.90592743, 23497.55720639,  6693.79492154,\n",
       "       11973.86486259, 16788.2341464 , 12897.67620456,  5685.91301677,\n",
       "        9515.24924026,  8659.32466777, 13154.47122214, 27388.99861564,\n",
       "          92.05347094, 35140.24049184, 28442.52205049,  2446.72915447,\n",
       "          55.38678738,   126.66293734, 12912.51685604, 12702.65185548])"
      ]
     },
     "execution_count": 18,
     "metadata": {},
     "output_type": "execute_result"
    }
   ],
   "source": [
    "pred = lm.predict(X_test)\n",
    "\n",
    "pred"
   ]
  },
  {
   "cell_type": "code",
   "execution_count": 19,
   "metadata": {},
   "outputs": [
    {
     "data": {
      "text/plain": [
       "44       6079.67150\n",
       "134      2457.21115\n",
       "980     25517.11363\n",
       "618     34439.85590\n",
       "1238     6985.50695\n",
       "Name: charges, dtype: float64"
      ]
     },
     "execution_count": 19,
     "metadata": {},
     "output_type": "execute_result"
    }
   ],
   "source": [
    "y_test.head()"
   ]
  },
  {
   "cell_type": "code",
   "execution_count": 20,
   "metadata": {},
   "outputs": [
    {
     "data": {
      "text/plain": [
       "<matplotlib.collections.PathCollection at 0x1d055c1ee48>"
      ]
     },
     "execution_count": 20,
     "metadata": {},
     "output_type": "execute_result"
    },
    {
     "data": {
      "image/png": "[encoded data removed]",
      "text/plain": [
       "<Figure size 432x288 with 1 Axes>"
      ]
     },
     "metadata": {
      "needs_background": "light"
     },
     "output_type": "display_data"
    }
   ],
   "source": [
    "plt.scatter(y_test,pred)"
   ]
  },
  {
   "cell_type": "code",
   "execution_count": 21,
   "metadata": {},
   "outputs": [
    {
     "data": {
      "image/png": "[encoded data removed]",
      "text/plain": [
       "<Figure size 432x288 with 1 Axes>"
      ]
     },
     "metadata": {
      "needs_background": "light"
     },
     "output_type": "display_data"
    }
   ],
   "source": [
    "# Residual are the difference between the actual values and predicted values\n",
    "\n",
    "# Residual --> Normal distribution means your model was a correct prediction for the data\n",
    "sns.distplot((y_test-pred),bins=50);"
   ]
  },
  {
   "cell_type": "code",
   "execution_count": 22,
   "metadata": {},
   "outputs": [],
   "source": [
    "from sklearn import metrics"
   ]
  },
  {
   "cell_type": "code",
   "execution_count": 23,
   "metadata": {},
   "outputs": [
    {
     "name": "stdout",
     "output_type": "stream",
     "text": [
      "MAE 4036.8740283584293\n",
      "MSE 33748393.37059586\n",
      "RMSE 5809.3367410226665\n"
     ]
    }
   ],
   "source": [
    "print('MAE', metrics.mean_absolute_error(y_test, pred))\n",
    "print('MSE', metrics.mean_squared_error(y_test, pred))\n",
    "print('RMSE', np.sqrt(metrics.mean_squared_error(y_test, pred)))"
   ]
  },
  {
   "cell_type": "code",
   "execution_count": 25,
   "metadata": {},
   "outputs": [
    {
     "data": {
      "text/html": [
       "<div>\n",
       "<style scoped>\n",
       "    .dataframe tbody tr th:only-of-type {\n",
       "        vertical-align: middle;\n",
       "    }\n",
       "\n",
       "    .dataframe tbody tr th {\n",
       "        vertical-align: top;\n",
       "    }\n",
       "\n",
       "    .dataframe thead th {\n",
       "        text-align: right;\n",
       "    }\n",
       "</style>\n",
       "<table border=\"1\" class=\"dataframe\">\n",
       "  <thead>\n",
       "    <tr style=\"text-align: right;\">\n",
       "      <th></th>\n",
       "      <th>age</th>\n",
       "      <th>bmi</th>\n",
       "      <th>children</th>\n",
       "      <th>sex_female</th>\n",
       "      <th>sex_male</th>\n",
       "      <th>smoker_no</th>\n",
       "      <th>smoker_yes</th>\n",
       "      <th>region_northeast</th>\n",
       "      <th>region_northwest</th>\n",
       "      <th>region_southeast</th>\n",
       "      <th>region_southwest</th>\n",
       "      <th>charges</th>\n",
       "    </tr>\n",
       "  </thead>\n",
       "  <tbody>\n",
       "    <tr>\n",
       "      <th>804</th>\n",
       "      <td>23</td>\n",
       "      <td>26.510</td>\n",
       "      <td>0</td>\n",
       "      <td>0</td>\n",
       "      <td>1</td>\n",
       "      <td>1</td>\n",
       "      <td>0</td>\n",
       "      <td>0</td>\n",
       "      <td>0</td>\n",
       "      <td>1</td>\n",
       "      <td>0</td>\n",
       "      <td>1815.87590</td>\n",
       "    </tr>\n",
       "    <tr>\n",
       "      <th>354</th>\n",
       "      <td>18</td>\n",
       "      <td>38.280</td>\n",
       "      <td>0</td>\n",
       "      <td>1</td>\n",
       "      <td>0</td>\n",
       "      <td>1</td>\n",
       "      <td>0</td>\n",
       "      <td>0</td>\n",
       "      <td>0</td>\n",
       "      <td>1</td>\n",
       "      <td>0</td>\n",
       "      <td>14133.03775</td>\n",
       "    </tr>\n",
       "    <tr>\n",
       "      <th>563</th>\n",
       "      <td>50</td>\n",
       "      <td>44.770</td>\n",
       "      <td>1</td>\n",
       "      <td>0</td>\n",
       "      <td>1</td>\n",
       "      <td>1</td>\n",
       "      <td>0</td>\n",
       "      <td>0</td>\n",
       "      <td>0</td>\n",
       "      <td>1</td>\n",
       "      <td>0</td>\n",
       "      <td>9058.73030</td>\n",
       "    </tr>\n",
       "    <tr>\n",
       "      <th>1177</th>\n",
       "      <td>40</td>\n",
       "      <td>27.400</td>\n",
       "      <td>1</td>\n",
       "      <td>1</td>\n",
       "      <td>0</td>\n",
       "      <td>1</td>\n",
       "      <td>0</td>\n",
       "      <td>0</td>\n",
       "      <td>0</td>\n",
       "      <td>0</td>\n",
       "      <td>1</td>\n",
       "      <td>6496.88600</td>\n",
       "    </tr>\n",
       "    <tr>\n",
       "      <th>390</th>\n",
       "      <td>48</td>\n",
       "      <td>35.625</td>\n",
       "      <td>4</td>\n",
       "      <td>0</td>\n",
       "      <td>1</td>\n",
       "      <td>1</td>\n",
       "      <td>0</td>\n",
       "      <td>1</td>\n",
       "      <td>0</td>\n",
       "      <td>0</td>\n",
       "      <td>0</td>\n",
       "      <td>10736.87075</td>\n",
       "    </tr>\n",
       "  </tbody>\n",
       "</table>\n",
       "</div>"
      ],
      "text/plain": [
       "      age     bmi  children  sex_female  sex_male  smoker_no  smoker_yes  \\\n",
       "804    23  26.510         0           0         1          1           0   \n",
       "354    18  38.280         0           1         0          1           0   \n",
       "563    50  44.770         1           0         1          1           0   \n",
       "1177   40  27.400         1           1         0          1           0   \n",
       "390    48  35.625         4           0         1          1           0   \n",
       "\n",
       "      region_northeast  region_northwest  region_southeast  region_southwest  \\\n",
       "804                  0                 0                 1                 0   \n",
       "354                  0                 0                 1                 0   \n",
       "563                  0                 0                 1                 0   \n",
       "1177                 0                 0                 0                 1   \n",
       "390                  1                 0                 0                 0   \n",
       "\n",
       "          charges  \n",
       "804    1815.87590  \n",
       "354   14133.03775  \n",
       "563    9058.73030  \n",
       "1177   6496.88600  \n",
       "390   10736.87075  "
      ]
     },
     "execution_count": 25,
     "metadata": {},
     "output_type": "execute_result"
    }
   ],
   "source": [
    "# Merge Back Training Data to use in statsmodel\n",
    "# statsTrain = X_train.merge(pd.DataFrame(y_train))\n",
    "statsTrain = X_train.join(pd.DataFrame(y_train)) # library regression\n",
    "statsTrain.head()"
   ]
  },
  {
   "cell_type": "code",
   "execution_count": 26,
   "metadata": {},
   "outputs": [],
   "source": [
    "from sklearn.linear_model import LinearRegression\n",
    "from sklearn import metrics\n",
    "import statsmodels.formula.api as smf  # เป็น library หลัก ไม่ต้องแยก x,y\n",
    "from scipy import stats"
   ]
  },
  {
   "cell_type": "code",
   "execution_count": 34,
   "metadata": {},
   "outputs": [
    {
     "data": {
      "text/html": [
       "<table class=\"simpletable\">\n",
       "<caption>OLS Regression Results</caption>\n",
       "<tr>\n",
       "  <th>Dep. Variable:</th>         <td>charges</td>     <th>  R-squared:         </th> <td>   0.748</td> \n",
       "</tr>\n",
       "<tr>\n",
       "  <th>Model:</th>                   <td>OLS</td>       <th>  Adj. R-squared:    </th> <td>   0.746</td> \n",
       "</tr>\n",
       "<tr>\n",
       "  <th>Method:</th>             <td>Least Squares</td>  <th>  F-statistic:       </th> <td>   392.8</td> \n",
       "</tr>\n",
       "<tr>\n",
       "  <th>Date:</th>             <td>Sat, 21 Dec 2019</td> <th>  Prob (F-statistic):</th> <td>7.34e-311</td>\n",
       "</tr>\n",
       "<tr>\n",
       "  <th>Time:</th>                 <td>21:29:04</td>     <th>  Log-Likelihood:    </th> <td> -10846.</td> \n",
       "</tr>\n",
       "<tr>\n",
       "  <th>No. Observations:</th>      <td>  1070</td>      <th>  AIC:               </th> <td>2.171e+04</td>\n",
       "</tr>\n",
       "<tr>\n",
       "  <th>Df Residuals:</th>          <td>  1061</td>      <th>  BIC:               </th> <td>2.175e+04</td>\n",
       "</tr>\n",
       "<tr>\n",
       "  <th>Df Model:</th>              <td>     8</td>      <th>                     </th>     <td> </td>    \n",
       "</tr>\n",
       "<tr>\n",
       "  <th>Covariance Type:</th>      <td>nonrobust</td>    <th>                     </th>     <td> </td>    \n",
       "</tr>\n",
       "</table>\n",
       "<table class=\"simpletable\">\n",
       "<tr>\n",
       "          <td></td>            <th>coef</th>     <th>std err</th>      <th>t</th>      <th>P>|t|</th>  <th>[0.025</th>    <th>0.975]</th>  \n",
       "</tr>\n",
       "<tr>\n",
       "  <th>Intercept</th>        <td> -447.2639</td> <td>  489.589</td> <td>   -0.914</td> <td> 0.361</td> <td>-1407.937</td> <td>  513.409</td>\n",
       "</tr>\n",
       "<tr>\n",
       "  <th>age</th>              <td>  244.5066</td> <td>   13.556</td> <td>   18.037</td> <td> 0.000</td> <td>  217.908</td> <td>  271.105</td>\n",
       "</tr>\n",
       "<tr>\n",
       "  <th>bmi</th>              <td>  364.9512</td> <td>   32.286</td> <td>   11.304</td> <td> 0.000</td> <td>  301.600</td> <td>  428.302</td>\n",
       "</tr>\n",
       "<tr>\n",
       "  <th>children</th>         <td>  413.0011</td> <td>  156.390</td> <td>    2.641</td> <td> 0.008</td> <td>  106.132</td> <td>  719.870</td>\n",
       "</tr>\n",
       "<tr>\n",
       "  <th>region_northeast</th> <td>  312.5769</td> <td>  341.632</td> <td>    0.915</td> <td> 0.360</td> <td> -357.775</td> <td>  982.929</td>\n",
       "</tr>\n",
       "<tr>\n",
       "  <th>region_northwest</th> <td>  413.4090</td> <td>  340.439</td> <td>    1.214</td> <td> 0.225</td> <td> -254.601</td> <td> 1081.419</td>\n",
       "</tr>\n",
       "<tr>\n",
       "  <th>region_southeast</th> <td> -601.3194</td> <td>  373.502</td> <td>   -1.610</td> <td> 0.108</td> <td>-1334.207</td> <td>  131.568</td>\n",
       "</tr>\n",
       "<tr>\n",
       "  <th>region_southwest</th> <td> -571.9304</td> <td>  351.077</td> <td>   -1.629</td> <td> 0.104</td> <td>-1260.814</td> <td>  116.953</td>\n",
       "</tr>\n",
       "<tr>\n",
       "  <th>sex_male</th>         <td> -169.2600</td> <td>  311.017</td> <td>   -0.544</td> <td> 0.586</td> <td> -779.538</td> <td>  441.018</td>\n",
       "</tr>\n",
       "<tr>\n",
       "  <th>sex_female</th>       <td> -278.0039</td> <td>  307.181</td> <td>   -0.905</td> <td> 0.366</td> <td> -880.754</td> <td>  324.747</td>\n",
       "</tr>\n",
       "<tr>\n",
       "  <th>smoker_yes</th>       <td>  1.16e+04</td> <td>  354.113</td> <td>   32.770</td> <td> 0.000</td> <td> 1.09e+04</td> <td> 1.23e+04</td>\n",
       "</tr>\n",
       "<tr>\n",
       "  <th>smoker_no</th>        <td>-1.205e+04</td> <td>  318.331</td> <td>  -37.859</td> <td> 0.000</td> <td>-1.27e+04</td> <td>-1.14e+04</td>\n",
       "</tr>\n",
       "</table>\n",
       "<table class=\"simpletable\">\n",
       "<tr>\n",
       "  <th>Omnibus:</th>       <td>244.125</td> <th>  Durbin-Watson:     </th> <td>   1.987</td> \n",
       "</tr>\n",
       "<tr>\n",
       "  <th>Prob(Omnibus):</th> <td> 0.000</td>  <th>  Jarque-Bera (JB):  </th> <td> 568.643</td> \n",
       "</tr>\n",
       "<tr>\n",
       "  <th>Skew:</th>          <td> 1.232</td>  <th>  Prob(JB):          </th> <td>3.32e-124</td>\n",
       "</tr>\n",
       "<tr>\n",
       "  <th>Kurtosis:</th>      <td> 5.585</td>  <th>  Cond. No.          </th> <td>8.53e+17</td> \n",
       "</tr>\n",
       "</table><br/><br/>Warnings:<br/>[1] Standard Errors assume that the covariance matrix of the errors is correctly specified.<br/>[2] The smallest eigenvalue is 3.85e-30. This might indicate that there are<br/>strong multicollinearity problems or that the design matrix is singular."
      ],
      "text/plain": [
       "<class 'statsmodels.iolib.summary.Summary'>\n",
       "\"\"\"\n",
       "                            OLS Regression Results                            \n",
       "==============================================================================\n",
       "Dep. Variable:                charges   R-squared:                       0.748\n",
       "Model:                            OLS   Adj. R-squared:                  0.746\n",
       "Method:                 Least Squares   F-statistic:                     392.8\n",
       "Date:                Sat, 21 Dec 2019   Prob (F-statistic):          7.34e-311\n",
       "Time:                        21:29:04   Log-Likelihood:                -10846.\n",
       "No. Observations:                1070   AIC:                         2.171e+04\n",
       "Df Residuals:                    1061   BIC:                         2.175e+04\n",
       "Df Model:                           8                                         \n",
       "Covariance Type:            nonrobust                                         \n",
       "====================================================================================\n",
       "                       coef    std err          t      P>|t|      [0.025      0.975]\n",
       "------------------------------------------------------------------------------------\n",
       "Intercept         -447.2639    489.589     -0.914      0.361   -1407.937     513.409\n",
       "age                244.5066     13.556     18.037      0.000     217.908     271.105\n",
       "bmi                364.9512     32.286     11.304      0.000     301.600     428.302\n",
       "children           413.0011    156.390      2.641      0.008     106.132     719.870\n",
       "region_northeast   312.5769    341.632      0.915      0.360    -357.775     982.929\n",
       "region_northwest   413.4090    340.439      1.214      0.225    -254.601    1081.419\n",
       "region_southeast  -601.3194    373.502     -1.610      0.108   -1334.207     131.568\n",
       "region_southwest  -571.9304    351.077     -1.629      0.104   -1260.814     116.953\n",
       "sex_male          -169.2600    311.017     -0.544      0.586    -779.538     441.018\n",
       "sex_female        -278.0039    307.181     -0.905      0.366    -880.754     324.747\n",
       "smoker_yes         1.16e+04    354.113     32.770      0.000    1.09e+04    1.23e+04\n",
       "smoker_no        -1.205e+04    318.331    -37.859      0.000   -1.27e+04   -1.14e+04\n",
       "==============================================================================\n",
       "Omnibus:                      244.125   Durbin-Watson:                   1.987\n",
       "Prob(Omnibus):                  0.000   Jarque-Bera (JB):              568.643\n",
       "Skew:                           1.232   Prob(JB):                    3.32e-124\n",
       "Kurtosis:                       5.585   Cond. No.                     8.53e+17\n",
       "==============================================================================\n",
       "\n",
       "Warnings:\n",
       "[1] Standard Errors assume that the covariance matrix of the errors is correctly specified.\n",
       "[2] The smallest eigenvalue is 3.85e-30. This might indicate that there are\n",
       "strong multicollinearity problems or that the design matrix is singular.\n",
       "\"\"\""
      ]
     },
     "execution_count": 34,
     "metadata": {},
     "output_type": "execute_result"
    }
   ],
   "source": [
    "### STATSMODELS ###\n",
    "\n",
    "# create a fitted model using all Xs\n",
    "lm = smf.ols(formula='charges ~ age + bmi + children +region_northeast+ region_northwest + region_southeast + region_southwest + sex_male + sex_female+ smoker_yes+smoker_no', data=statsTrain).fit() # .fit หา สัมประสิทธิ์\n",
    "\n",
    "# print a summary of the fitted model\n",
    "lm.summary()"
   ]
  },
  {
   "cell_type": "code",
   "execution_count": 28,
   "metadata": {},
   "outputs": [
    {
     "data": {
      "text/html": [
       "<table class=\"simpletable\">\n",
       "<caption>OLS Regression Results</caption>\n",
       "<tr>\n",
       "  <th>Dep. Variable:</th>         <td>charges</td>     <th>  R-squared:         </th> <td>   0.746</td> \n",
       "</tr>\n",
       "<tr>\n",
       "  <th>Model:</th>                   <td>OLS</td>       <th>  Adj. R-squared:    </th> <td>   0.745</td> \n",
       "</tr>\n",
       "<tr>\n",
       "  <th>Method:</th>             <td>Least Squares</td>  <th>  F-statistic:       </th> <td>   782.4</td> \n",
       "</tr>\n",
       "<tr>\n",
       "  <th>Date:</th>             <td>Sat, 21 Dec 2019</td> <th>  Prob (F-statistic):</th> <td>3.86e-315</td>\n",
       "</tr>\n",
       "<tr>\n",
       "  <th>Time:</th>                 <td>20:32:51</td>     <th>  Log-Likelihood:    </th> <td> -10849.</td> \n",
       "</tr>\n",
       "<tr>\n",
       "  <th>No. Observations:</th>      <td>  1070</td>      <th>  AIC:               </th> <td>2.171e+04</td>\n",
       "</tr>\n",
       "<tr>\n",
       "  <th>Df Residuals:</th>          <td>  1065</td>      <th>  BIC:               </th> <td>2.173e+04</td>\n",
       "</tr>\n",
       "<tr>\n",
       "  <th>Df Model:</th>              <td>     4</td>      <th>                     </th>     <td> </td>    \n",
       "</tr>\n",
       "<tr>\n",
       "  <th>Covariance Type:</th>      <td>nonrobust</td>    <th>                     </th>     <td> </td>    \n",
       "</tr>\n",
       "</table>\n",
       "<table class=\"simpletable\">\n",
       "<tr>\n",
       "       <td></td>         <th>coef</th>     <th>std err</th>      <th>t</th>      <th>P>|t|</th>  <th>[0.025</th>    <th>0.975]</th>  \n",
       "</tr>\n",
       "<tr>\n",
       "  <th>Intercept</th>  <td> -336.9031</td> <td>  717.379</td> <td>   -0.470</td> <td> 0.639</td> <td>-1744.541</td> <td> 1070.734</td>\n",
       "</tr>\n",
       "<tr>\n",
       "  <th>age</th>        <td>  245.0979</td> <td>   13.553</td> <td>   18.084</td> <td> 0.000</td> <td>  218.504</td> <td>  271.692</td>\n",
       "</tr>\n",
       "<tr>\n",
       "  <th>bmi</th>        <td>  346.8529</td> <td>   31.006</td> <td>   11.187</td> <td> 0.000</td> <td>  286.013</td> <td>  407.693</td>\n",
       "</tr>\n",
       "<tr>\n",
       "  <th>children</th>   <td>  423.7808</td> <td>  156.334</td> <td>    2.711</td> <td> 0.007</td> <td>  117.023</td> <td>  730.538</td>\n",
       "</tr>\n",
       "<tr>\n",
       "  <th>smoker_yes</th> <td> 1.165e+04</td> <td>  448.981</td> <td>   25.951</td> <td> 0.000</td> <td> 1.08e+04</td> <td> 1.25e+04</td>\n",
       "</tr>\n",
       "<tr>\n",
       "  <th>smoker_no</th>  <td>-1.199e+04</td> <td>  402.035</td> <td>  -29.820</td> <td> 0.000</td> <td>-1.28e+04</td> <td>-1.12e+04</td>\n",
       "</tr>\n",
       "</table>\n",
       "<table class=\"simpletable\">\n",
       "<tr>\n",
       "  <th>Omnibus:</th>       <td>247.798</td> <th>  Durbin-Watson:     </th> <td>   1.987</td> \n",
       "</tr>\n",
       "<tr>\n",
       "  <th>Prob(Omnibus):</th> <td> 0.000</td>  <th>  Jarque-Bera (JB):  </th> <td> 583.550</td> \n",
       "</tr>\n",
       "<tr>\n",
       "  <th>Skew:</th>          <td> 1.245</td>  <th>  Prob(JB):          </th> <td>1.92e-127</td>\n",
       "</tr>\n",
       "<tr>\n",
       "  <th>Kurtosis:</th>      <td> 5.624</td>  <th>  Cond. No.          </th> <td>2.47e+17</td> \n",
       "</tr>\n",
       "</table><br/><br/>Warnings:<br/>[1] Standard Errors assume that the covariance matrix of the errors is correctly specified.<br/>[2] The smallest eigenvalue is 4.59e-29. This might indicate that there are<br/>strong multicollinearity problems or that the design matrix is singular."
      ],
      "text/plain": [
       "<class 'statsmodels.iolib.summary.Summary'>\n",
       "\"\"\"\n",
       "                            OLS Regression Results                            \n",
       "==============================================================================\n",
       "Dep. Variable:                charges   R-squared:                       0.746\n",
       "Model:                            OLS   Adj. R-squared:                  0.745\n",
       "Method:                 Least Squares   F-statistic:                     782.4\n",
       "Date:                Sat, 21 Dec 2019   Prob (F-statistic):          3.86e-315\n",
       "Time:                        20:32:51   Log-Likelihood:                -10849.\n",
       "No. Observations:                1070   AIC:                         2.171e+04\n",
       "Df Residuals:                    1065   BIC:                         2.173e+04\n",
       "Df Model:                           4                                         \n",
       "Covariance Type:            nonrobust                                         \n",
       "==============================================================================\n",
       "                 coef    std err          t      P>|t|      [0.025      0.975]\n",
       "------------------------------------------------------------------------------\n",
       "Intercept   -336.9031    717.379     -0.470      0.639   -1744.541    1070.734\n",
       "age          245.0979     13.553     18.084      0.000     218.504     271.692\n",
       "bmi          346.8529     31.006     11.187      0.000     286.013     407.693\n",
       "children     423.7808    156.334      2.711      0.007     117.023     730.538\n",
       "smoker_yes  1.165e+04    448.981     25.951      0.000    1.08e+04    1.25e+04\n",
       "smoker_no  -1.199e+04    402.035    -29.820      0.000   -1.28e+04   -1.12e+04\n",
       "==============================================================================\n",
       "Omnibus:                      247.798   Durbin-Watson:                   1.987\n",
       "Prob(Omnibus):                  0.000   Jarque-Bera (JB):              583.550\n",
       "Skew:                           1.245   Prob(JB):                    1.92e-127\n",
       "Kurtosis:                       5.624   Cond. No.                     2.47e+17\n",
       "==============================================================================\n",
       "\n",
       "Warnings:\n",
       "[1] Standard Errors assume that the covariance matrix of the errors is correctly specified.\n",
       "[2] The smallest eigenvalue is 4.59e-29. This might indicate that there are\n",
       "strong multicollinearity problems or that the design matrix is singular.\n",
       "\"\"\""
      ]
     },
     "execution_count": 28,
     "metadata": {},
     "output_type": "execute_result"
    }
   ],
   "source": [
    "### STATSMODELS ###\n",
    "\n",
    "# create a fitted model\n",
    "lm1 = smf.ols(formula='charges ~ age + bmi + children + smoker_yes+smoker_no', data=statsTrain).fit()\n",
    "\n",
    "# print a summary of the fitted model\n",
    "lm1.summary()"
   ]
  },
  {
   "cell_type": "code",
   "execution_count": 29,
   "metadata": {},
   "outputs": [
    {
     "data": {
      "text/plain": [
       "44      10262.980371\n",
       "134      2560.697877\n",
       "980     10164.521550\n",
       "618     27455.872601\n",
       "1238     5889.838944\n",
       "295        60.489399\n",
       "20      14868.892219\n",
       "1297     4579.952340\n",
       "365     10784.289545\n",
       "670      7249.004722\n",
       "1210     7630.967785\n",
       "284     11241.480691\n",
       "1083     6867.359232\n",
       "115     12298.712091\n",
       "793     31554.127292\n",
       "252     37263.399147\n",
       "986      9930.606513\n",
       "869      3501.894469\n",
       "18      15378.233879\n",
       "45      14092.577216\n",
       "1040    29613.692017\n",
       "688      7977.116234\n",
       "782     13074.652007\n",
       "1191     5693.158699\n",
       "1041       93.440427\n",
       "0       25648.768895\n",
       "1125    11814.817802\n",
       "1120    27843.145737\n",
       "674     38169.956334\n",
       "1108     4876.492413\n",
       "            ...     \n",
       "360     11490.188874\n",
       "12       5243.570736\n",
       "389      5306.697313\n",
       "1227    11712.243678\n",
       "125      4031.285317\n",
       "1234     9204.462607\n",
       "996     10332.423767\n",
       "139      5553.437499\n",
       "773     25988.684755\n",
       "868     10830.356579\n",
       "769      4590.821124\n",
       "1073    11774.539332\n",
       "1282    23239.308775\n",
       "198      6435.266902\n",
       "544     11388.292115\n",
       "768     17130.905381\n",
       "1140    13211.092311\n",
       "247      5995.073904\n",
       "184      9951.364048\n",
       "695      7985.408591\n",
       "849     12523.067758\n",
       "1042    26859.852180\n",
       "1295      631.081623\n",
       "254     34608.201709\n",
       "1313    28854.930342\n",
       "648      1971.648982\n",
       "1023      598.731662\n",
       "28       -234.350877\n",
       "798     13371.088677\n",
       "457     12222.438917\n",
       "Length: 268, dtype: float64"
      ]
     },
     "execution_count": 29,
     "metadata": {},
     "output_type": "execute_result"
    }
   ],
   "source": [
    "pred = lm1.predict(X_test)\n",
    "\n",
    "pred"
   ]
  },
  {
   "cell_type": "code",
   "execution_count": 30,
   "metadata": {},
   "outputs": [
    {
     "data": {
      "text/plain": [
       "<matplotlib.collections.PathCollection at 0x1d057172c18>"
      ]
     },
     "execution_count": 30,
     "metadata": {},
     "output_type": "execute_result"
    },
    {
     "data": {
      "image/png": "[encoded data removed]",
      "text/plain": [
       "<Figure size 432x288 with 1 Axes>"
      ]
     },
     "metadata": {
      "needs_background": "light"
     },
     "output_type": "display_data"
    }
   ],
   "source": [
    "plt.scatter(y_test,pred)"
   ]
  },
  {
   "cell_type": "code",
   "execution_count": 31,
   "metadata": {},
   "outputs": [
    {
     "data": {
      "image/png": "[encoded data removed]",
      "text/plain": [
       "<Figure size 432x288 with 1 Axes>"
      ]
     },
     "metadata": {
      "needs_background": "light"
     },
     "output_type": "display_data"
    }
   ],
   "source": [
    "# Residual are the difference between the actual values and predicted values\n",
    "\n",
    "# Residual --> Normal distribution means your model was a correct prediction for the data\n",
    "sns.distplot((y_test-pred),bins=50);"
   ]
  },
  {
   "cell_type": "code",
   "execution_count": 32,
   "metadata": {},
   "outputs": [
    {
     "name": "stdout",
     "output_type": "stream",
     "text": [
      "MAE 4027.9698489387015\n",
      "MSE 33557334.37496507\n",
      "RMSE 5792.869269624947\n"
     ]
    }
   ],
   "source": [
    "print('MAE', metrics.mean_absolute_error(y_test, pred))\n",
    "print('MSE', metrics.mean_squared_error(y_test, pred))\n",
    "print('RMSE', np.sqrt(metrics.mean_squared_error(y_test, pred)))"
   ]
  },
  {
   "cell_type": "code",
   "execution_count": null,
   "metadata": {},
   "outputs": [],
   "source": [
    "#MAE 4036.8740283584293\n",
    "#MSE 33748393.37059586\n",
    "#RMSE 5809.3367410226665"
   ]
  },
  {
   "cell_type": "code",
   "execution_count": null,
   "metadata": {},
   "outputs": [],
   "source": []
  },
  {
   "cell_type": "code",
   "execution_count": null,
   "metadata": {},
   "outputs": [],
   "source": []
  },
  {
   "cell_type": "code",
   "execution_count": null,
   "metadata": {},
   "outputs": [],
   "source": []
  },
  {
   "cell_type": "code",
   "execution_count": null,
   "metadata": {},
   "outputs": [],
   "source": []
  },
  {
   "cell_type": "code",
   "execution_count": null,
   "metadata": {},
   "outputs": [],
   "source": []
  },
  {
   "cell_type": "code",
   "execution_count": null,
   "metadata": {},
   "outputs": [],
   "source": []
  }
 ],
 "metadata": {
  "kernelspec": {
   "display_name": "Python 3",
   "language": "python",
   "name": "python3"
  },
  "language_info": {
   "codemirror_mode": {
    "name": "ipython",
    "version": 3
   },
   "file_extension": ".py",
   "mimetype": "text/x-python",
   "name": "python",
   "nbconvert_exporter": "python",
   "pygments_lexer": "ipython3",
   "version": "3.7.3"
  }
 },
 "nbformat": 4,
 "nbformat_minor": 2
}
