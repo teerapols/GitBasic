{
 "cells": [
  {
   "cell_type": "code",
   "execution_count": 1,
   "metadata": {},
   "outputs": [],
   "source": [
    "from pulp import *\n",
    "import pandas as pd"
   ]
  },
  {
   "cell_type": "code",
   "execution_count": 2,
   "metadata": {},
   "outputs": [],
   "source": [
    "cost = pd.read_excel(\"transportation.xlsx\", sheet_name = \"Cost\")"
   ]
  },
  {
   "cell_type": "code",
   "execution_count": 3,
   "metadata": {},
   "outputs": [
    {
     "data": {
      "text/html": [
       "<div>\n",
       "<style scoped>\n",
       "    .dataframe tbody tr th:only-of-type {\n",
       "        vertical-align: middle;\n",
       "    }\n",
       "\n",
       "    .dataframe tbody tr th {\n",
       "        vertical-align: top;\n",
       "    }\n",
       "\n",
       "    .dataframe thead th {\n",
       "        text-align: right;\n",
       "    }\n",
       "</style>\n",
       "<table border=\"1\" class=\"dataframe\">\n",
       "  <thead>\n",
       "    <tr style=\"text-align: right;\">\n",
       "      <th></th>\n",
       "      <th>Unnamed: 0</th>\n",
       "      <th>Warehouse1</th>\n",
       "      <th>Warehouse2</th>\n",
       "      <th>Warehouse3</th>\n",
       "    </tr>\n",
       "  </thead>\n",
       "  <tbody>\n",
       "    <tr>\n",
       "      <th>0</th>\n",
       "      <td>Supplier1</td>\n",
       "      <td>15</td>\n",
       "      <td>20</td>\n",
       "      <td>10</td>\n",
       "    </tr>\n",
       "    <tr>\n",
       "      <th>1</th>\n",
       "      <td>Supplier2</td>\n",
       "      <td>7</td>\n",
       "      <td>12</td>\n",
       "      <td>9</td>\n",
       "    </tr>\n",
       "    <tr>\n",
       "      <th>2</th>\n",
       "      <td>Supplier3</td>\n",
       "      <td>40</td>\n",
       "      <td>5</td>\n",
       "      <td>20</td>\n",
       "    </tr>\n",
       "  </tbody>\n",
       "</table>\n",
       "</div>"
      ],
      "text/plain": [
       "  Unnamed: 0  Warehouse1  Warehouse2  Warehouse3\n",
       "0  Supplier1          15          20          10\n",
       "1  Supplier2           7          12           9\n",
       "2  Supplier3          40           5          20"
      ]
     },
     "execution_count": 3,
     "metadata": {},
     "output_type": "execute_result"
    }
   ],
   "source": [
    "cost"
   ]
  },
  {
   "cell_type": "code",
   "execution_count": 24,
   "metadata": {},
   "outputs": [
    {
     "data": {
      "text/plain": [
       "Unnamed: 0    object\n",
       "Warehouse1     int64\n",
       "Warehouse2     int64\n",
       "Warehouse3     int64\n",
       "dtype: object"
      ]
     },
     "execution_count": 24,
     "metadata": {},
     "output_type": "execute_result"
    }
   ],
   "source": [
    "cost.dtypes"
   ]
  },
  {
   "cell_type": "code",
   "execution_count": 4,
   "metadata": {},
   "outputs": [
    {
     "data": {
      "text/html": [
       "<div>\n",
       "<style scoped>\n",
       "    .dataframe tbody tr th:only-of-type {\n",
       "        vertical-align: middle;\n",
       "    }\n",
       "\n",
       "    .dataframe tbody tr th {\n",
       "        vertical-align: top;\n",
       "    }\n",
       "\n",
       "    .dataframe thead th {\n",
       "        text-align: right;\n",
       "    }\n",
       "</style>\n",
       "<table border=\"1\" class=\"dataframe\">\n",
       "  <thead>\n",
       "    <tr style=\"text-align: right;\">\n",
       "      <th></th>\n",
       "      <th>Capacity</th>\n",
       "      <th>Demand</th>\n",
       "    </tr>\n",
       "  </thead>\n",
       "  <tbody>\n",
       "    <tr>\n",
       "      <th>0</th>\n",
       "      <td>1000</td>\n",
       "      <td>500</td>\n",
       "    </tr>\n",
       "    <tr>\n",
       "      <th>1</th>\n",
       "      <td>500</td>\n",
       "      <td>1000</td>\n",
       "    </tr>\n",
       "    <tr>\n",
       "      <th>2</th>\n",
       "      <td>2000</td>\n",
       "      <td>2000</td>\n",
       "    </tr>\n",
       "  </tbody>\n",
       "</table>\n",
       "</div>"
      ],
      "text/plain": [
       "   Capacity  Demand\n",
       "0      1000     500\n",
       "1       500    1000\n",
       "2      2000    2000"
      ]
     },
     "execution_count": 4,
     "metadata": {},
     "output_type": "execute_result"
    }
   ],
   "source": [
    "parameter = pd.read_excel(\"transportation.xlsx\", sheet_name = \"Parameter\")\n",
    "parameter"
   ]
  },
  {
   "cell_type": "code",
   "execution_count": 8,
   "metadata": {},
   "outputs": [
    {
     "data": {
      "text/plain": [
       "Index(['Unnamed: 0', 'Warehouse1', 'Warehouse2', 'Warehouse3'], dtype='object')"
      ]
     },
     "execution_count": 8,
     "metadata": {},
     "output_type": "execute_result"
    }
   ],
   "source": [
    "cost.columns"
   ]
  },
  {
   "cell_type": "code",
   "execution_count": 7,
   "metadata": {},
   "outputs": [
    {
     "name": "stdout",
     "output_type": "stream",
     "text": [
      "['Warehouse1', 'Warehouse2', 'Warehouse3']\n"
     ]
    }
   ],
   "source": [
    "#Step1:Set and Parameters\n",
    "warehouse = [i for i in cost.columns if i != cost.columns[0]]\n",
    "print(warehouse)"
   ]
  },
  {
   "cell_type": "code",
   "execution_count": 9,
   "metadata": {},
   "outputs": [
    {
     "data": {
      "text/plain": [
       "0    Supplier1\n",
       "1    Supplier2\n",
       "2    Supplier3\n",
       "Name: Unnamed: 0, dtype: object"
      ]
     },
     "execution_count": 9,
     "metadata": {},
     "output_type": "execute_result"
    }
   ],
   "source": [
    "cost.iloc[:,0] #: means selecting each row\n",
    "#iloc = ilocation, :=เอาข้อมูลทุกแถว, 0=เอาเฉพาะcolumnแรก = column [0]"
   ]
  },
  {
   "cell_type": "code",
   "execution_count": 10,
   "metadata": {},
   "outputs": [],
   "source": [
    "supplier = cost.iloc[:,0].values # .values แปลง Dataframe ให้เป็นlist"
   ]
  },
  {
   "cell_type": "code",
   "execution_count": 11,
   "metadata": {},
   "outputs": [
    {
     "data": {
      "text/plain": [
       "array(['Supplier1', 'Supplier2', 'Supplier3'], dtype=object)"
      ]
     },
     "execution_count": 11,
     "metadata": {},
     "output_type": "execute_result"
    }
   ],
   "source": [
    "supplier"
   ]
  },
  {
   "cell_type": "code",
   "execution_count": 16,
   "metadata": {},
   "outputs": [
    {
     "data": {
      "text/html": [
       "<div>\n",
       "<style scoped>\n",
       "    .dataframe tbody tr th:only-of-type {\n",
       "        vertical-align: middle;\n",
       "    }\n",
       "\n",
       "    .dataframe tbody tr th {\n",
       "        vertical-align: top;\n",
       "    }\n",
       "\n",
       "    .dataframe thead th {\n",
       "        text-align: right;\n",
       "    }\n",
       "</style>\n",
       "<table border=\"1\" class=\"dataframe\">\n",
       "  <thead>\n",
       "    <tr style=\"text-align: right;\">\n",
       "      <th></th>\n",
       "      <th>Unnamed: 0</th>\n",
       "      <th>Warehouse1</th>\n",
       "      <th>Warehouse2</th>\n",
       "      <th>Warehouse3</th>\n",
       "    </tr>\n",
       "  </thead>\n",
       "  <tbody>\n",
       "    <tr>\n",
       "      <th>0</th>\n",
       "      <td>Supplier1</td>\n",
       "      <td>15</td>\n",
       "      <td>20</td>\n",
       "      <td>10</td>\n",
       "    </tr>\n",
       "    <tr>\n",
       "      <th>1</th>\n",
       "      <td>Supplier2</td>\n",
       "      <td>7</td>\n",
       "      <td>12</td>\n",
       "      <td>9</td>\n",
       "    </tr>\n",
       "    <tr>\n",
       "      <th>2</th>\n",
       "      <td>Supplier3</td>\n",
       "      <td>40</td>\n",
       "      <td>5</td>\n",
       "      <td>20</td>\n",
       "    </tr>\n",
       "  </tbody>\n",
       "</table>\n",
       "</div>"
      ],
      "text/plain": [
       "  Unnamed: 0  Warehouse1  Warehouse2  Warehouse3\n",
       "0  Supplier1          15          20          10\n",
       "1  Supplier2           7          12           9\n",
       "2  Supplier3          40           5          20"
      ]
     },
     "execution_count": 16,
     "metadata": {},
     "output_type": "execute_result"
    }
   ],
   "source": [
    "cost"
   ]
  },
  {
   "cell_type": "code",
   "execution_count": 17,
   "metadata": {},
   "outputs": [],
   "source": [
    "cost_dict={}\n",
    "for i in range(len(supplier)): #0,1,2\n",
    "    for j in range(len(warehouse)): #0,1,2\n",
    "       cost_dict[supplier[i],warehouse[j]] = cost.iloc[i,j+1] #ใช้ ilocต้องเป็นตัวเลข"
   ]
  },
  {
   "cell_type": "code",
   "execution_count": 18,
   "metadata": {},
   "outputs": [
    {
     "name": "stdout",
     "output_type": "stream",
     "text": [
      "{('Supplier1', 'Warehouse1'): 15, ('Supplier1', 'Warehouse2'): 20, ('Supplier1', 'Warehouse3'): 10, ('Supplier2', 'Warehouse1'): 7, ('Supplier2', 'Warehouse2'): 12, ('Supplier2', 'Warehouse3'): 9, ('Supplier3', 'Warehouse1'): 40, ('Supplier3', 'Warehouse2'): 5, ('Supplier3', 'Warehouse3'): 20}\n"
     ]
    }
   ],
   "source": [
    "print(cost_dict)"
   ]
  },
  {
   "cell_type": "code",
   "execution_count": 19,
   "metadata": {},
   "outputs": [
    {
     "data": {
      "text/plain": [
       "0    1000\n",
       "1     500\n",
       "2    2000\n",
       "Name: Capacity, dtype: int64"
      ]
     },
     "execution_count": 19,
     "metadata": {},
     "output_type": "execute_result"
    }
   ],
   "source": [
    "parameter.iloc[:,0]"
   ]
  },
  {
   "cell_type": "code",
   "execution_count": 20,
   "metadata": {},
   "outputs": [
    {
     "name": "stdout",
     "output_type": "stream",
     "text": [
      "{'Supplier1': 1000, 'Supplier2': 500, 'Supplier3': 2000}\n"
     ]
    }
   ],
   "source": [
    "capacity_dict = {}\n",
    "for i in range(len(supplier)): \n",
    "  capacity_dict[supplier[i]] = parameter.iloc[:,0][i]\n",
    "print(capacity_dict) \n",
    " "
   ]
  },
  {
   "cell_type": "code",
   "execution_count": 22,
   "metadata": {},
   "outputs": [
    {
     "data": {
      "text/html": [
       "<div>\n",
       "<style scoped>\n",
       "    .dataframe tbody tr th:only-of-type {\n",
       "        vertical-align: middle;\n",
       "    }\n",
       "\n",
       "    .dataframe tbody tr th {\n",
       "        vertical-align: top;\n",
       "    }\n",
       "\n",
       "    .dataframe thead th {\n",
       "        text-align: right;\n",
       "    }\n",
       "</style>\n",
       "<table border=\"1\" class=\"dataframe\">\n",
       "  <thead>\n",
       "    <tr style=\"text-align: right;\">\n",
       "      <th></th>\n",
       "      <th>Capacity</th>\n",
       "      <th>Demand</th>\n",
       "    </tr>\n",
       "  </thead>\n",
       "  <tbody>\n",
       "    <tr>\n",
       "      <th>0</th>\n",
       "      <td>1000</td>\n",
       "      <td>500</td>\n",
       "    </tr>\n",
       "    <tr>\n",
       "      <th>1</th>\n",
       "      <td>500</td>\n",
       "      <td>1000</td>\n",
       "    </tr>\n",
       "    <tr>\n",
       "      <th>2</th>\n",
       "      <td>2000</td>\n",
       "      <td>2000</td>\n",
       "    </tr>\n",
       "  </tbody>\n",
       "</table>\n",
       "</div>"
      ],
      "text/plain": [
       "   Capacity  Demand\n",
       "0      1000     500\n",
       "1       500    1000\n",
       "2      2000    2000"
      ]
     },
     "execution_count": 22,
     "metadata": {},
     "output_type": "execute_result"
    }
   ],
   "source": [
    "parameter"
   ]
  },
  {
   "cell_type": "code",
   "execution_count": 21,
   "metadata": {},
   "outputs": [
    {
     "data": {
      "text/plain": [
       "0     500\n",
       "1    1000\n",
       "2    2000\n",
       "Name: Demand, dtype: int64"
      ]
     },
     "execution_count": 21,
     "metadata": {},
     "output_type": "execute_result"
    }
   ],
   "source": [
    "parameter.iloc[:,1]"
   ]
  },
  {
   "cell_type": "code",
   "execution_count": 28,
   "metadata": {},
   "outputs": [
    {
     "name": "stdout",
     "output_type": "stream",
     "text": [
      "{'Warehouse1': 500, 'Warehouse2': 1000, 'Warehouse3': 2000}\n"
     ]
    }
   ],
   "source": [
    "demand_dict = {}\n",
    "for i in range(len(warehouse)): \n",
    "  demand_dict[warehouse[i]] = parameter.iloc[:,1][i]\n",
    "print(demand_dict) "
   ]
  },
  {
   "cell_type": "code",
   "execution_count": 29,
   "metadata": {},
   "outputs": [
    {
     "data": {
      "text/plain": [
       "{('Supplier1', 'Warehouse1'): 15,\n",
       " ('Supplier1', 'Warehouse2'): 20,\n",
       " ('Supplier1', 'Warehouse3'): 10,\n",
       " ('Supplier2', 'Warehouse1'): 7,\n",
       " ('Supplier2', 'Warehouse2'): 12,\n",
       " ('Supplier2', 'Warehouse3'): 9,\n",
       " ('Supplier3', 'Warehouse1'): 40,\n",
       " ('Supplier3', 'Warehouse2'): 5,\n",
       " ('Supplier3', 'Warehouse3'): 20}"
      ]
     },
     "execution_count": 29,
     "metadata": {},
     "output_type": "execute_result"
    }
   ],
   "source": [
    "cost_dict"
   ]
  },
  {
   "cell_type": "markdown",
   "metadata": {},
   "source": [
    "## Linear Programming Model"
   ]
  },
  {
   "cell_type": "code",
   "execution_count": 38,
   "metadata": {},
   "outputs": [
    {
     "name": "stderr",
     "output_type": "stream",
     "text": [
      "C:\\Python Anaconda\\lib\\site-packages\\pulp\\pulp.py:1114: UserWarning: Spaces are not permitted in the name. Converted to '_'\n",
      "  warnings.warn(\"Spaces are not permitted in the name. Converted to '_'\")\n"
     ]
    }
   ],
   "source": [
    "#Step:Define problem\n",
    "#Linear Programming Model\n",
    "prob = LpProblem(\"Trasportation Problem\",LpMinimize) #ใช้คำสั่ง LpProblem สร้าง Model prob,บอกปัญหาใช้ LpMaximize หรือ LpMinimize\n",
    "\n",
    "#Step:Decision variable\n",
    "x=LpVariable.dicts(\"x\",cost_dict.keys(),0)#ใช้ cost_dict.keys()เพื่อประกาศ index ให้ตัวแปร x\n",
    "\n"
   ]
  },
  {
   "cell_type": "code",
   "execution_count": 39,
   "metadata": {},
   "outputs": [
    {
     "name": "stdout",
     "output_type": "stream",
     "text": [
      "{('Supplier1', 'Warehouse1'): x_('Supplier1',_'Warehouse1'), ('Supplier1', 'Warehouse2'): x_('Supplier1',_'Warehouse2'), ('Supplier1', 'Warehouse3'): x_('Supplier1',_'Warehouse3'), ('Supplier2', 'Warehouse1'): x_('Supplier2',_'Warehouse1'), ('Supplier2', 'Warehouse2'): x_('Supplier2',_'Warehouse2'), ('Supplier2', 'Warehouse3'): x_('Supplier2',_'Warehouse3'), ('Supplier3', 'Warehouse1'): x_('Supplier3',_'Warehouse1'), ('Supplier3', 'Warehouse2'): x_('Supplier3',_'Warehouse2'), ('Supplier3', 'Warehouse3'): x_('Supplier3',_'Warehouse3')}\n"
     ]
    }
   ],
   "source": [
    "print(x)"
   ]
  },
  {
   "cell_type": "code",
   "execution_count": 40,
   "metadata": {},
   "outputs": [
    {
     "data": {
      "text/plain": [
       "dict_keys([('Supplier1', 'Warehouse1'), ('Supplier1', 'Warehouse2'), ('Supplier1', 'Warehouse3'), ('Supplier2', 'Warehouse1'), ('Supplier2', 'Warehouse2'), ('Supplier2', 'Warehouse3'), ('Supplier3', 'Warehouse1'), ('Supplier3', 'Warehouse2'), ('Supplier3', 'Warehouse3')])"
      ]
     },
     "execution_count": 40,
     "metadata": {},
     "output_type": "execute_result"
    }
   ],
   "source": [
    "cost_dict.keys()"
   ]
  },
  {
   "cell_type": "code",
   "execution_count": 41,
   "metadata": {},
   "outputs": [
    {
     "data": {
      "text/plain": [
       "dict_values([15, 20, 10, 7, 12, 9, 40, 5, 20])"
      ]
     },
     "execution_count": 41,
     "metadata": {},
     "output_type": "execute_result"
    }
   ],
   "source": [
    "cost_dict.values()"
   ]
  },
  {
   "cell_type": "code",
   "execution_count": 42,
   "metadata": {},
   "outputs": [],
   "source": [
    "#step: Objective function\n",
    "prob += lpSum(cost_dict[i]*x[i] for i in cost_dict.keys()) #cost_dict.keys มี index = 2 มิติแล้ว\n"
   ]
  },
  {
   "cell_type": "code",
   "execution_count": 43,
   "metadata": {},
   "outputs": [
    {
     "data": {
      "text/plain": [
       "Trasportation_Problem:\n",
       "MINIMIZE\n",
       "15*x_('Supplier1',_'Warehouse1') + 20*x_('Supplier1',_'Warehouse2') + 10*x_('Supplier1',_'Warehouse3') + 7*x_('Supplier2',_'Warehouse1') + 12*x_('Supplier2',_'Warehouse2') + 9*x_('Supplier2',_'Warehouse3') + 40*x_('Supplier3',_'Warehouse1') + 5*x_('Supplier3',_'Warehouse2') + 20*x_('Supplier3',_'Warehouse3') + 0\n",
       "VARIABLES\n",
       "x_('Supplier1',_'Warehouse1') Continuous\n",
       "x_('Supplier1',_'Warehouse2') Continuous\n",
       "x_('Supplier1',_'Warehouse3') Continuous\n",
       "x_('Supplier2',_'Warehouse1') Continuous\n",
       "x_('Supplier2',_'Warehouse2') Continuous\n",
       "x_('Supplier2',_'Warehouse3') Continuous\n",
       "x_('Supplier3',_'Warehouse1') Continuous\n",
       "x_('Supplier3',_'Warehouse2') Continuous\n",
       "x_('Supplier3',_'Warehouse3') Continuous"
      ]
     },
     "execution_count": 43,
     "metadata": {},
     "output_type": "execute_result"
    }
   ],
   "source": [
    "prob \n",
    "# แปลผล เช่น costขนส่ง supplier1 ไป warehouse1 =15บาทต่อตันคูณกับx(จำนวนตัน)\n",
    "#cost จะคูณทุกroute รวมกันออกมาจะได้เป็น total costขนส่ง"
   ]
  },
  {
   "cell_type": "code",
   "execution_count": 45,
   "metadata": {},
   "outputs": [],
   "source": [
    "#step:Adding constraints (Supplier)\n",
    "#Supplier ต้องไม่supply ของเกิน cap ที่มี (จำนวนตัน)\n",
    "#For example: consider\n",
    "#supplier1 >>x11+x12+x13 <=1000\n",
    "#supplier2 >>x21+x22+x23 <=500\n",
    "for i in supplier:\n",
    "  prob += lpSum(x[i,j] for j in warehouse) <=capacity_dict[i]\n"
   ]
  },
  {
   "cell_type": "code",
   "execution_count": 46,
   "metadata": {},
   "outputs": [
    {
     "data": {
      "text/plain": [
       "Trasportation_Problem:\n",
       "MINIMIZE\n",
       "15*x_('Supplier1',_'Warehouse1') + 20*x_('Supplier1',_'Warehouse2') + 10*x_('Supplier1',_'Warehouse3') + 7*x_('Supplier2',_'Warehouse1') + 12*x_('Supplier2',_'Warehouse2') + 9*x_('Supplier2',_'Warehouse3') + 40*x_('Supplier3',_'Warehouse1') + 5*x_('Supplier3',_'Warehouse2') + 20*x_('Supplier3',_'Warehouse3') + 0\n",
       "SUBJECT TO\n",
       "_C1: x_('Supplier1',_'Warehouse1') + x_('Supplier1',_'Warehouse2')\n",
       " + x_('Supplier1',_'Warehouse3') <= 1000\n",
       "\n",
       "_C2: x_('Supplier2',_'Warehouse1') + x_('Supplier2',_'Warehouse2')\n",
       " + x_('Supplier2',_'Warehouse3') <= 500\n",
       "\n",
       "_C3: x_('Supplier3',_'Warehouse1') + x_('Supplier3',_'Warehouse2')\n",
       " + x_('Supplier3',_'Warehouse3') <= 2000\n",
       "\n",
       "VARIABLES\n",
       "x_('Supplier1',_'Warehouse1') Continuous\n",
       "x_('Supplier1',_'Warehouse2') Continuous\n",
       "x_('Supplier1',_'Warehouse3') Continuous\n",
       "x_('Supplier2',_'Warehouse1') Continuous\n",
       "x_('Supplier2',_'Warehouse2') Continuous\n",
       "x_('Supplier2',_'Warehouse3') Continuous\n",
       "x_('Supplier3',_'Warehouse1') Continuous\n",
       "x_('Supplier3',_'Warehouse2') Continuous\n",
       "x_('Supplier3',_'Warehouse3') Continuous"
      ]
     },
     "execution_count": 46,
     "metadata": {},
     "output_type": "execute_result"
    }
   ],
   "source": [
    "prob"
   ]
  },
  {
   "cell_type": "code",
   "execution_count": 47,
   "metadata": {},
   "outputs": [],
   "source": [
    "#step:Adding constraints (Warehouse)\n",
    "#Demand ต้องมากกว่าหรือเท่ากับของที่ต้องการ และต้องไม่ทำให้ของ Out stock\n",
    "#For example: consider\n",
    "#warehouse1 >>x11+x21+x31 <=1000\n",
    "\n",
    "for j in warehouse:\n",
    "  prob += lpSum(x[i,j] for i in supplier) >= demand_dict[j]"
   ]
  },
  {
   "cell_type": "code",
   "execution_count": 48,
   "metadata": {},
   "outputs": [
    {
     "data": {
      "text/plain": [
       "Trasportation_Problem:\n",
       "MINIMIZE\n",
       "15*x_('Supplier1',_'Warehouse1') + 20*x_('Supplier1',_'Warehouse2') + 10*x_('Supplier1',_'Warehouse3') + 7*x_('Supplier2',_'Warehouse1') + 12*x_('Supplier2',_'Warehouse2') + 9*x_('Supplier2',_'Warehouse3') + 40*x_('Supplier3',_'Warehouse1') + 5*x_('Supplier3',_'Warehouse2') + 20*x_('Supplier3',_'Warehouse3') + 0\n",
       "SUBJECT TO\n",
       "_C1: x_('Supplier1',_'Warehouse1') + x_('Supplier1',_'Warehouse2')\n",
       " + x_('Supplier1',_'Warehouse3') <= 1000\n",
       "\n",
       "_C2: x_('Supplier2',_'Warehouse1') + x_('Supplier2',_'Warehouse2')\n",
       " + x_('Supplier2',_'Warehouse3') <= 500\n",
       "\n",
       "_C3: x_('Supplier3',_'Warehouse1') + x_('Supplier3',_'Warehouse2')\n",
       " + x_('Supplier3',_'Warehouse3') <= 2000\n",
       "\n",
       "_C4: x_('Supplier1',_'Warehouse1') + x_('Supplier2',_'Warehouse1')\n",
       " + x_('Supplier3',_'Warehouse1') >= 500\n",
       "\n",
       "_C5: x_('Supplier1',_'Warehouse2') + x_('Supplier2',_'Warehouse2')\n",
       " + x_('Supplier3',_'Warehouse2') >= 1000\n",
       "\n",
       "_C6: x_('Supplier1',_'Warehouse3') + x_('Supplier2',_'Warehouse3')\n",
       " + x_('Supplier3',_'Warehouse3') >= 2000\n",
       "\n",
       "VARIABLES\n",
       "x_('Supplier1',_'Warehouse1') Continuous\n",
       "x_('Supplier1',_'Warehouse2') Continuous\n",
       "x_('Supplier1',_'Warehouse3') Continuous\n",
       "x_('Supplier2',_'Warehouse1') Continuous\n",
       "x_('Supplier2',_'Warehouse2') Continuous\n",
       "x_('Supplier2',_'Warehouse3') Continuous\n",
       "x_('Supplier3',_'Warehouse1') Continuous\n",
       "x_('Supplier3',_'Warehouse2') Continuous\n",
       "x_('Supplier3',_'Warehouse3') Continuous"
      ]
     },
     "execution_count": 48,
     "metadata": {},
     "output_type": "execute_result"
    }
   ],
   "source": [
    "prob"
   ]
  },
  {
   "cell_type": "code",
   "execution_count": 49,
   "metadata": {},
   "outputs": [
    {
     "data": {
      "text/plain": [
       "1"
      ]
     },
     "execution_count": 49,
     "metadata": {},
     "output_type": "execute_result"
    }
   ],
   "source": [
    "#step :Solve problem\n",
    "prob.solve() \n",
    "#แปลผล ถ้าได้ -1 หมายถึง modelแก้ปัญหาไม่ออก (invisible)"
   ]
  },
  {
   "cell_type": "code",
   "execution_count": 51,
   "metadata": {},
   "outputs": [
    {
     "name": "stdout",
     "output_type": "stream",
     "text": [
      "38500.0\n"
     ]
    }
   ],
   "source": [
    "#Step : Show objective function\n",
    "print(value(prob.objective)) \n",
    "#แปลผลคือ costขนส่ง ต่ำสุด = 38,500 บาท"
   ]
  },
  {
   "cell_type": "code",
   "execution_count": 52,
   "metadata": {},
   "outputs": [
    {
     "name": "stdout",
     "output_type": "stream",
     "text": [
      "x_('Supplier1',_'Warehouse1') = 0.0\n",
      "x_('Supplier1',_'Warehouse2') = 0.0\n",
      "x_('Supplier1',_'Warehouse3') = 1000.0\n",
      "x_('Supplier2',_'Warehouse1') = 500.0\n",
      "x_('Supplier2',_'Warehouse2') = 0.0\n",
      "x_('Supplier2',_'Warehouse3') = 0.0\n",
      "x_('Supplier3',_'Warehouse1') = 0.0\n",
      "x_('Supplier3',_'Warehouse2') = 1000.0\n",
      "x_('Supplier3',_'Warehouse3') = 1000.0\n"
     ]
    }
   ],
   "source": [
    "#Step : The optimal solution คำตอบของปัญหา\n",
    "for i in prob.variables():\n",
    "    print(i.name,\"=\",i.varValue)\n",
    "#แปลผล แนะนำsolution ให้แต่ล่ะwarehouseให้สั่งของ supplier แต่ละเจ้าในจำนวนเท่านี้ที่ทำให้costขนส่งต่ำสุด\n",
    "#สื่งที่ต้องระวัง supplier ต้องมีของมากกว่า Demand ถ้าน้อยกว่า Demand Modelจะrunไม่ออกต้องใส่ Dummy supplier เข้าไปเพื่อหลอก modelให้ run ผลออกมา"
   ]
  },
  {
   "cell_type": "code",
   "execution_count": null,
   "metadata": {},
   "outputs": [],
   "source": []
  },
  {
   "cell_type": "code",
   "execution_count": null,
   "metadata": {},
   "outputs": [],
   "source": []
  },
  {
   "cell_type": "code",
   "execution_count": null,
   "metadata": {},
   "outputs": [],
   "source": []
  },
  {
   "cell_type": "code",
   "execution_count": null,
   "metadata": {},
   "outputs": [],
   "source": []
  },
  {
   "cell_type": "code",
   "execution_count": null,
   "metadata": {},
   "outputs": [],
   "source": []
  },
  {
   "cell_type": "code",
   "execution_count": null,
   "metadata": {},
   "outputs": [],
   "source": []
  },
  {
   "cell_type": "code",
   "execution_count": null,
   "metadata": {},
   "outputs": [],
   "source": []
  }
 ],
 "metadata": {
  "kernelspec": {
   "display_name": "Python 3",
   "language": "python",
   "name": "python3"
  },
  "language_info": {
   "codemirror_mode": {
    "name": "ipython",
    "version": 3
   },
   "file_extension": ".py",
   "mimetype": "text/x-python",
   "name": "python",
   "nbconvert_exporter": "python",
   "pygments_lexer": "ipython3",
   "version": "3.7.3"
  }
 },
 "nbformat": 4,
 "nbformat_minor": 2
}
